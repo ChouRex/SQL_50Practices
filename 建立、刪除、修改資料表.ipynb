{
 "cells": [
  {
   "cell_type": "code",
   "execution_count": 1,
   "id": "010bad61",
   "metadata": {},
   "outputs": [],
   "source": [
    "import sqlite3\n",
    "import pandas as pd"
   ]
  },
  {
   "cell_type": "code",
   "execution_count": 2,
   "id": "bee29e06",
   "metadata": {},
   "outputs": [
    {
     "data": {
      "text/plain": [
       "<sqlite3.Cursor at 0x7f96c5f24340>"
      ]
     },
     "execution_count": 2,
     "metadata": {},
     "output_type": "execute_result"
    }
   ],
   "source": [
    "conn = sqlite3.connect('nba.db')\n",
    "conn.execute(\"\"\"ATTACH 'covid19.db' AS covid19\"\"\")\n",
    "conn.execute(\"\"\"ATTACH 'twElection2020.db' AS twElection2020\"\"\")\n",
    "conn.execute(\"\"\"ATTACH 'imdb.db' AS imdb\"\"\")\n",
    "conn.execute(\"\"\"ATTACH 'test.db' AS test\"\"\")"
   ]
  },
  {
   "cell_type": "markdown",
   "id": "3510ca33",
   "metadata": {},
   "source": [
    "######  Overview\n",
    "1. 練習新增資料表\n",
    "2. 練習新增觀測值\n",
    "3. 練習修該資料表內容"
   ]
  },
  {
   "cell_type": "markdown",
   "id": "56b1efe0",
   "metadata": {},
   "source": [
    "## 43. 在已經建立且連線好的 test 資料庫新增一個資料表名為 favorite_players，具有三個欄位 name、years_pro、ppg，資料類型分別是文字（TEXT）、整數（INTEGER）與浮點數（REAL）\n",
    "\n",
    "* 練習建立資料表"
   ]
  },
  {
   "cell_type": "code",
   "execution_count": 3,
   "id": "e2cd4ae5",
   "metadata": {},
   "outputs": [
    {
     "data": {
      "text/html": [
       "<div>\n",
       "<style scoped>\n",
       "    .dataframe tbody tr th:only-of-type {\n",
       "        vertical-align: middle;\n",
       "    }\n",
       "\n",
       "    .dataframe tbody tr th {\n",
       "        vertical-align: top;\n",
       "    }\n",
       "\n",
       "    .dataframe thead th {\n",
       "        text-align: right;\n",
       "    }\n",
       "</style>\n",
       "<table border=\"1\" class=\"dataframe\">\n",
       "  <thead>\n",
       "    <tr style=\"text-align: right;\">\n",
       "      <th></th>\n",
       "      <th>name</th>\n",
       "      <th>years_pro</th>\n",
       "      <th>ppg</th>\n",
       "    </tr>\n",
       "  </thead>\n",
       "  <tbody>\n",
       "  </tbody>\n",
       "</table>\n",
       "</div>"
      ],
      "text/plain": [
       "Empty DataFrame\n",
       "Columns: [name, years_pro, ppg]\n",
       "Index: []"
      ]
     },
     "execution_count": 3,
     "metadata": {},
     "output_type": "execute_result"
    }
   ],
   "source": [
    "create_table_favorite_players_in_test =\\\n",
    "\"\"\"\n",
    "-- SQL 語法起點\n",
    "\n",
    "CREATE TABLE favorite_players(\n",
    "    name TEXT,\n",
    "    years_pro INTEGER,\n",
    "    ppg REAL\n",
    ");\n",
    "\n",
    "-- SQL 語法終點\n",
    "\"\"\"\n",
    "\n",
    "# table_favorite_players_in_test = pd.read_sql(create_table_favorite_players_in_test, conn)\n",
    "# table_favorite_players_in_test\n",
    "\n",
    "show_table = \\\n",
    "\"\"\"\n",
    "-- SQL 語法起點\n",
    "\n",
    "SELECT * \n",
    "  FROM favorite_players\n",
    "\n",
    "-- SQL 語法終點\n",
    "\"\"\"\n",
    "\n",
    "table = pd.read_sql(show_table, conn)\n",
    "table\n"
   ]
  },
  {
   "cell_type": "markdown",
   "id": "a9a27ce7",
   "metadata": {},
   "source": [
    "## 44. 承接上題，在 test 資料庫的 favorite_players 資料表中新增五筆觀測值\n",
    "* 練習新增資料表內容"
   ]
  },
  {
   "cell_type": "code",
   "execution_count": 7,
   "id": "6ff15d40",
   "metadata": {},
   "outputs": [
    {
     "data": {
      "text/html": [
       "<div>\n",
       "<style scoped>\n",
       "    .dataframe tbody tr th:only-of-type {\n",
       "        vertical-align: middle;\n",
       "    }\n",
       "\n",
       "    .dataframe tbody tr th {\n",
       "        vertical-align: top;\n",
       "    }\n",
       "\n",
       "    .dataframe thead th {\n",
       "        text-align: right;\n",
       "    }\n",
       "</style>\n",
       "<table border=\"1\" class=\"dataframe\">\n",
       "  <thead>\n",
       "    <tr style=\"text-align: right;\">\n",
       "      <th></th>\n",
       "      <th>name</th>\n",
       "      <th>years_pro</th>\n",
       "      <th>ppg</th>\n",
       "    </tr>\n",
       "  </thead>\n",
       "  <tbody>\n",
       "    <tr>\n",
       "      <th>0</th>\n",
       "      <td>Steve Nash</td>\n",
       "      <td>19</td>\n",
       "      <td>14.3</td>\n",
       "    </tr>\n",
       "    <tr>\n",
       "      <th>1</th>\n",
       "      <td>Michael Jordan</td>\n",
       "      <td>14</td>\n",
       "      <td>30.1</td>\n",
       "    </tr>\n",
       "    <tr>\n",
       "      <th>2</th>\n",
       "      <td>Paul Pierce</td>\n",
       "      <td>19</td>\n",
       "      <td>19.7</td>\n",
       "    </tr>\n",
       "    <tr>\n",
       "      <th>3</th>\n",
       "      <td>Kevin Garnett</td>\n",
       "      <td>21</td>\n",
       "      <td>17.8</td>\n",
       "    </tr>\n",
       "    <tr>\n",
       "      <th>4</th>\n",
       "      <td>Hakeem Olajuwon</td>\n",
       "      <td>18</td>\n",
       "      <td>21.8</td>\n",
       "    </tr>\n",
       "  </tbody>\n",
       "</table>\n",
       "</div>"
      ],
      "text/plain": [
       "              name  years_pro   ppg\n",
       "0       Steve Nash         19  14.3\n",
       "1   Michael Jordan         14  30.1\n",
       "2      Paul Pierce         19  19.7\n",
       "3    Kevin Garnett         21  17.8\n",
       "4  Hakeem Olajuwon         18  21.8"
      ]
     },
     "execution_count": 7,
     "metadata": {},
     "output_type": "execute_result"
    }
   ],
   "source": [
    "insert_table_favorite_players_in_test =\\\n",
    "\"\"\"\n",
    "-- SQL 語法起點\n",
    "\n",
    "INSERT INTO favorite_players\n",
    "VALUES \n",
    "      ('Steve Nash', 19, 14.3), \n",
    "      ('Michael Jordan', 14, 30.1), \n",
    "      ('Paul Pierce', 19, 19.7), \n",
    "      ('Kevin Garnett', 21, 17.8), \n",
    "      ('Hakeem Olajuwon', 18, 21.8);\n",
    "\n",
    "-- SQL 語法終點\n",
    "\"\"\"\n",
    "\n",
    "# table_favorite_players_in_test = pd.read_sql(insert_table_favorite_players_in_test, conn)\n",
    "# table_favorite_players_in_test\n",
    "\n",
    "show_table = \\\n",
    "\"\"\"\n",
    "-- SQL 語法起點\n",
    "\n",
    "SELECT DISTINCT* \n",
    "  FROM favorite_players\n",
    "\n",
    "-- SQL 語法終點\n",
    "\"\"\"\n",
    "\n",
    "table = pd.read_sql(show_table, conn)\n",
    "table\n"
   ]
  },
  {
   "cell_type": "markdown",
   "id": "babc29a6",
   "metadata": {},
   "source": [
    "## 45. 承接上題，在 test 資料庫的 favorite_players 資料表將第五位球員 Hakeem Olajuwon 替換成 Tim Duncan\n",
    "* 練習修該資料表內容"
   ]
  },
  {
   "cell_type": "code",
   "execution_count": 9,
   "id": "fb127747",
   "metadata": {},
   "outputs": [
    {
     "data": {
      "text/html": [
       "<div>\n",
       "<style scoped>\n",
       "    .dataframe tbody tr th:only-of-type {\n",
       "        vertical-align: middle;\n",
       "    }\n",
       "\n",
       "    .dataframe tbody tr th {\n",
       "        vertical-align: top;\n",
       "    }\n",
       "\n",
       "    .dataframe thead th {\n",
       "        text-align: right;\n",
       "    }\n",
       "</style>\n",
       "<table border=\"1\" class=\"dataframe\">\n",
       "  <thead>\n",
       "    <tr style=\"text-align: right;\">\n",
       "      <th></th>\n",
       "      <th>name</th>\n",
       "      <th>years_pro</th>\n",
       "      <th>ppg</th>\n",
       "    </tr>\n",
       "  </thead>\n",
       "  <tbody>\n",
       "    <tr>\n",
       "      <th>0</th>\n",
       "      <td>Steve Nash</td>\n",
       "      <td>19</td>\n",
       "      <td>14.3</td>\n",
       "    </tr>\n",
       "    <tr>\n",
       "      <th>1</th>\n",
       "      <td>Michael Jordan</td>\n",
       "      <td>14</td>\n",
       "      <td>30.1</td>\n",
       "    </tr>\n",
       "    <tr>\n",
       "      <th>2</th>\n",
       "      <td>Paul Pierce</td>\n",
       "      <td>19</td>\n",
       "      <td>19.7</td>\n",
       "    </tr>\n",
       "    <tr>\n",
       "      <th>3</th>\n",
       "      <td>Kevin Garnett</td>\n",
       "      <td>21</td>\n",
       "      <td>17.8</td>\n",
       "    </tr>\n",
       "    <tr>\n",
       "      <th>4</th>\n",
       "      <td>Tim Duncan</td>\n",
       "      <td>18</td>\n",
       "      <td>21.8</td>\n",
       "    </tr>\n",
       "  </tbody>\n",
       "</table>\n",
       "</div>"
      ],
      "text/plain": [
       "             name  years_pro   ppg\n",
       "0      Steve Nash         19  14.3\n",
       "1  Michael Jordan         14  30.1\n",
       "2     Paul Pierce         19  19.7\n",
       "3   Kevin Garnett         21  17.8\n",
       "4      Tim Duncan         18  21.8"
      ]
     },
     "execution_count": 9,
     "metadata": {},
     "output_type": "execute_result"
    }
   ],
   "source": [
    "update_table_favorite_players_in_test =\\\n",
    "\"\"\"\n",
    "-- SQL 語法起點\n",
    "\n",
    "UPDATE favorite_players\n",
    "  SET name = 'Tim Duncan'\n",
    " WHERE name = 'Hakeem Olajuwon';\n",
    "\n",
    "-- SQL 語法終點\n",
    "\"\"\"\n",
    "# table_favorite_players_in_test = pd.read_sql(update_table_favorite_players_in_test, conn)\n",
    "# table_favorite_players_in_test\n",
    "\n",
    "show_table = \\\n",
    "\"\"\"\n",
    "-- SQL 語法起點\n",
    "\n",
    "SELECT DISTINCT* \n",
    "  FROM favorite_players\n",
    "\n",
    "-- SQL 語法終點\n",
    "\"\"\"\n",
    "\n",
    "table = pd.read_sql(show_table, conn)\n",
    "table"
   ]
  },
  {
   "cell_type": "code",
   "execution_count": null,
   "id": "c1cd3595",
   "metadata": {},
   "outputs": [],
   "source": []
  }
 ],
 "metadata": {
  "kernelspec": {
   "display_name": "DATABASE",
   "language": "python",
   "name": "database"
  },
  "language_info": {
   "codemirror_mode": {
    "name": "ipython",
    "version": 3
   },
   "file_extension": ".py",
   "mimetype": "text/x-python",
   "name": "python",
   "nbconvert_exporter": "python",
   "pygments_lexer": "ipython3",
   "version": "3.7.10"
  }
 },
 "nbformat": 4,
 "nbformat_minor": 5
}
